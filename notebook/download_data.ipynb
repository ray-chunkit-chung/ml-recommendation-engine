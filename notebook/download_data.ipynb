{
 "cells": [
  {
   "cell_type": "code",
   "execution_count": 1,
   "metadata": {},
   "outputs": [
    {
     "name": "stderr",
     "output_type": "stream",
     "text": [
      "/com.docker.devenvironments.code/.venv/lib/python3.11/site-packages/tqdm/auto.py:21: TqdmWarning: IProgress not found. Please update jupyter and ipywidgets. See https://ipywidgets.readthedocs.io/en/stable/user_install.html\n",
      "  from .autonotebook import tqdm as notebook_tqdm\n",
      "2023-09-03 03:40:57.659102: I tensorflow/core/util/port.cc:110] oneDNN custom operations are on. You may see slightly different numerical results due to floating-point round-off errors from different computation orders. To turn them off, set the environment variable `TF_ENABLE_ONEDNN_OPTS=0`.\n",
      "2023-09-03 03:40:57.660410: I tensorflow/tsl/cuda/cudart_stub.cc:28] Could not find cuda drivers on your machine, GPU will not be used.\n",
      "2023-09-03 03:40:57.686725: I tensorflow/tsl/cuda/cudart_stub.cc:28] Could not find cuda drivers on your machine, GPU will not be used.\n",
      "2023-09-03 03:40:57.688700: I tensorflow/core/platform/cpu_feature_guard.cc:182] This TensorFlow binary is optimized to use available CPU instructions in performance-critical operations.\n",
      "To enable the following instructions: AVX2 AVX512F AVX512_VNNI FMA, in other operations, rebuild TensorFlow with the appropriate compiler flags.\n",
      "2023-09-03 03:40:58.467982: W tensorflow/compiler/tf2tensorrt/utils/py_utils.cc:38] TF-TRT Warning: Could not find TensorRT\n",
      "2023-09-03 03:40:59.282760: W tensorflow/tsl/platform/cloud/google_auth_provider.cc:184] All attempts to get a Google authentication bearer token failed, returning an empty token. Retrieving token from files failed with \"NOT_FOUND: Could not locate the credentials file.\". Retrieving token from GCE failed with \"FAILED_PRECONDITION: Error executing an HTTP request: libcurl code 6 meaning 'Couldn't resolve host name', error details: Could not resolve host: metadata.google.internal\".\n"
     ]
    },
    {
     "name": "stdout",
     "output_type": "stream",
     "text": [
      "\u001b[1mDownloading and preparing dataset 5.64 MiB (download: 5.64 MiB, generated: 308.42 MiB, total: 314.06 MiB) to /root/tensorflow_datasets/movielens/1m-ratings/0.1.1...\u001b[0m\n"
     ]
    },
    {
     "name": "stderr",
     "output_type": "stream",
     "text": [
      "Dl Completed...: 0 url [00:00, ? url/s]\n",
      "Dl Completed...:   0%|          | 0/1 [00:00<?, ? url/s]\n",
      "Dl Completed...:   0%|          | 0/1 [00:01<?, ? url/s]\n",
      "Dl Completed...:   0%|          | 0/1 [00:03<?, ? url/s]\n",
      "Dl Completed...:   0%|          | 0/1 [00:06<?, ? url/s]\n",
      "Dl Completed...:   0%|          | 0/1 [00:08<?, ? url/s]\n",
      "Dl Completed...:   0%|          | 0/1 [00:09<?, ? url/s]\n",
      "Dl Completed...:   0%|          | 0/1 [00:10<?, ? url/s]\n",
      "Dl Completed...: 100%|██████████| 1/1 [00:11<00:00, 11.03s/ url]\n",
      "Dl Completed...: 100%|██████████| 1/1 [00:11<00:00, 11.03s/ url]\n",
      "Dl Completed...: 100%|██████████| 1/1 [00:11<00:00, 11.03s/ url]\n",
      "Dl Completed...: 100%|██████████| 1/1 [00:11<00:00, 11.03s/ url]\n",
      "Dl Completed...: 100%|██████████| 1/1 [00:11<00:00, 11.03s/ url]\n",
      "\u001b[A\n",
      "Dl Completed...: 100%|██████████| 1/1 [00:11<00:00, 11.03s/ url]\n",
      "Dl Completed...: 100%|██████████| 1/1 [00:11<00:00, 11.03s/ url]\n",
      "Dl Completed...: 100%|██████████| 1/1 [00:11<00:00, 11.03s/ url]\n",
      "Dl Completed...: 100%|██████████| 1/1 [00:11<00:00, 11.03s/ url]\n",
      "Extraction completed...: 100%|██████████| 4/4 [00:11<00:00,  2.79s/ file]\n",
      "Dl Size...: 100%|██████████| 5/5 [00:11<00:00,  2.24s/ MiB]\n",
      "Dl Completed...: 100%|██████████| 1/1 [00:11<00:00, 11.18s/ url]\n",
      "                                                                          \r"
     ]
    },
    {
     "name": "stdout",
     "output_type": "stream",
     "text": [
      "\u001b[1mDataset movielens downloaded and prepared to /root/tensorflow_datasets/movielens/1m-ratings/0.1.1. Subsequent calls will reuse this data.\u001b[0m\n"
     ]
    }
   ],
   "source": [
    "\n",
    "import tensorflow_datasets as tfds\n",
    "\n",
    "\n",
    "data = tfds.load(\"movielens/1m-ratings\")"
   ]
  },
  {
   "cell_type": "code",
   "execution_count": 3,
   "metadata": {},
   "outputs": [
    {
     "name": "stdout",
     "output_type": "stream",
     "text": [
      "   bucketized_user_age movie_genres movie_id                      movie_title  \\\n",
      "0                 35.0       [0, 7]  b'3107'              b'Backdraft (1991)'   \n",
      "1                 25.0          [7]  b'2114'         b'Outsiders, The (1983)'   \n",
      "2                 18.0      [4, 15]   b'256'                 b'Junior (1994)'   \n",
      "3                 18.0      [0, 10]  b'1389'               b'Jaws 3-D (1983)'   \n",
      "4                 18.0          [0]  b'3635'  b'Spy Who Loved Me, The (1977)'   \n",
      "\n",
      "    timestamp  user_gender  user_id  user_occupation_label  \\\n",
      "0   977432193         True   b'130'                     18   \n",
      "1   965932967        False  b'3829'                      0   \n",
      "2  1012103552        False  b'1265'                     21   \n",
      "3   972004605         True  b'2896'                     14   \n",
      "4   961180111         True  b'5264'                     17   \n",
      "\n",
      "      user_occupation_text  user_rating user_zip_code  \n",
      "0   b'technician/engineer'          5.0      b'50021'  \n",
      "1     b'academic/educator'          4.0      b'22307'  \n",
      "2                b'writer'          1.0      b'49321'  \n",
      "3       b'sales/marketing'          5.0      b'60073'  \n",
      "4  b'college/grad student'          4.0      b'15217'  \n"
     ]
    }
   ],
   "source": [
    "df = tfds.as_dataframe(data[\"train\"])\n",
    "print(df.head(5))"
   ]
  },
  {
   "cell_type": "code",
   "execution_count": 4,
   "metadata": {},
   "outputs": [],
   "source": [
    "# In this tutorial, let us only use the bare minimum: user_id, movie_id,\n",
    "# and user_rating since very often this is the only data we have\n",
    "filtered_data = (\n",
    "    df\n",
    "    .filter([\"timestamp\", \"user_id\", \"movie_id\", \"user_rating\"])\n",
    "    .sort_values(\"timestamp\")\n",
    "    .astype({\"user_id\": int, \"movie_id\": int, \"user_rating\": int}) # nicer types\n",
    "    .drop(columns=[\"timestamp\"]) # don't need the timestamp anymore\n",
    ")\n",
    "\n",
    "# We will also keep the timestamp to conduct a temporal train-test split since \n",
    "#  this resembles how we train in real life: we train now, but we want the model\n",
    "# to work well tomorrow. So we should evaluate the model quality like this as well.\n",
    "train = filtered_data.iloc[:900000] # chronologically first 90% of the dataset\n",
    "test = filtered_data.iloc[900000:]  # chronologically last 10% of the dataset"
   ]
  },
  {
   "cell_type": "code",
   "execution_count": 5,
   "metadata": {},
   "outputs": [
    {
     "name": "stdout",
     "output_type": "stream",
     "text": [
      "0\n",
      "53\n"
     ]
    }
   ],
   "source": [
    "# cold start problem exists, meaning that some users or movies are only \n",
    "# present in the test set, but not in the training set.\n",
    "print(train.query(\"user_id == 1\").shape[0])\n",
    "print(test.query(\"user_id == 1\").shape[0])"
   ]
  },
  {
   "cell_type": "code",
   "execution_count": 8,
   "metadata": {},
   "outputs": [],
   "source": [
    "# save for later in the train.py script\n",
    "\n",
    "import os\n",
    "if os.path.isdir(\"../local\") == False:\n",
    "    os.mkdir(\"../local\")\n",
    "\n",
    "train.to_csv(\"../local/train.csv\", index=False)\n",
    "test.to_csv(\"../local/test.csv\", index=False)"
   ]
  },
  {
   "cell_type": "code",
   "execution_count": null,
   "metadata": {},
   "outputs": [],
   "source": []
  }
 ],
 "metadata": {
  "kernelspec": {
   "display_name": ".venv",
   "language": "python",
   "name": "python3"
  },
  "language_info": {
   "codemirror_mode": {
    "name": "ipython",
    "version": 3
   },
   "file_extension": ".py",
   "mimetype": "text/x-python",
   "name": "python",
   "nbconvert_exporter": "python",
   "pygments_lexer": "ipython3",
   "version": "3.11.5"
  },
  "orig_nbformat": 4
 },
 "nbformat": 4,
 "nbformat_minor": 2
}
